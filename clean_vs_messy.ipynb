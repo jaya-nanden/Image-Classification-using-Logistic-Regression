{
 "cells": [
  {
   "cell_type": "code",
   "execution_count": 1,
   "metadata": {},
   "outputs": [
    {
     "name": "stdout",
     "output_type": "stream",
     "text": [
      "Good to go\n"
     ]
    }
   ],
   "source": [
    "print('Good to go')"
   ]
  },
  {
   "cell_type": "code",
   "execution_count": 2,
   "metadata": {},
   "outputs": [],
   "source": [
    "import numpy as np\n",
    "import pandas as pd\n",
    "import matplotlib.pyplot as plt\n",
    "import seaborn as sns\n",
    "\n",
    "%matplotlib inline"
   ]
  },
  {
   "cell_type": "code",
   "execution_count": 3,
   "metadata": {},
   "outputs": [],
   "source": [
    "from PIL import Image\n",
    "import cv2"
   ]
  },
  {
   "cell_type": "code",
   "execution_count": 4,
   "metadata": {},
   "outputs": [
    {
     "name": "stdout",
     "output_type": "stream",
     "text": [
      "['test', 'train', 'val']\n"
     ]
    }
   ],
   "source": [
    "from random import shuffle\n",
    "import os\n",
    "print(os.listdir(\"../images/images\"))\n",
    "\n",
    "import warnings\n",
    "warnings.filterwarnings('ignore')"
   ]
  },
  {
   "cell_type": "code",
   "execution_count": 5,
   "metadata": {},
   "outputs": [],
   "source": [
    "train_messy = \"../images/images/train/messy\"\n",
    "train_clean= \"../images/images/train/clean\"\n",
    "\n",
    "image_size = 128"
   ]
  },
  {
   "cell_type": "code",
   "execution_count": 6,
   "metadata": {},
   "outputs": [],
   "source": [
    "# Image.open(train_clean + \"/0.png\")"
   ]
  },
  {
   "cell_type": "code",
   "execution_count": 7,
   "metadata": {},
   "outputs": [],
   "source": [
    "# Image.open(train_messy + \"/0.png\")"
   ]
  },
  {
   "cell_type": "code",
   "execution_count": 8,
   "metadata": {},
   "outputs": [
    {
     "data": {
      "text/plain": [
       "(299, 299)"
      ]
     },
     "execution_count": 8,
     "metadata": {},
     "output_type": "execute_result"
    }
   ],
   "source": [
    "img = cv2.imread(train_messy + \"/0.png\", cv2.IMREAD_GRAYSCALE)\n",
    "img.shape"
   ]
  },
  {
   "cell_type": "code",
   "execution_count": 9,
   "metadata": {},
   "outputs": [
    {
     "data": {
      "text/plain": [
       "(128, 128)"
      ]
     },
     "execution_count": 9,
     "metadata": {},
     "output_type": "execute_result"
    }
   ],
   "source": [
    "img = cv2.resize(img, (image_size, image_size))\n",
    "img.shape"
   ]
  },
  {
   "cell_type": "code",
   "execution_count": 10,
   "metadata": {},
   "outputs": [],
   "source": [
    "# plt.imshow(img, 'gray')"
   ]
  },
  {
   "cell_type": "code",
   "execution_count": 11,
   "metadata": {},
   "outputs": [],
   "source": [
    "def train_data():\n",
    "    train_data_messy = [] \n",
    "    train_data_clean=[]\n",
    "    for image in os.listdir(train_messy):\n",
    "        path = os.path.join(train_messy, image)\n",
    "        img1 = cv2.imread(path, cv2.IMREAD_GRAYSCALE) \n",
    "        img1 = cv2.resize(img1, (image_size, image_size))\n",
    "        train_data_messy.append(img1) \n",
    "    for image in os.listdir(train_clean): \n",
    "        path = os.path.join(train_clean, image)\n",
    "        img2 = cv2.imread(path, cv2.IMREAD_GRAYSCALE) \n",
    "        img2 = cv2.resize(img2, (image_size, image_size))\n",
    "        train_data_clean.append(img2) \n",
    "    \n",
    "    train_data= np.concatenate((np.asarray(train_data_messy),np.asarray(train_data_clean)),axis=0)\n",
    "    return train_data "
   ]
  },
  {
   "cell_type": "code",
   "execution_count": 12,
   "metadata": {},
   "outputs": [],
   "source": [
    "train_data = train_data() "
   ]
  },
  {
   "cell_type": "code",
   "execution_count": 13,
   "metadata": {},
   "outputs": [
    {
     "data": {
      "text/plain": [
       "(192, 128, 128)"
      ]
     },
     "execution_count": 13,
     "metadata": {},
     "output_type": "execute_result"
    }
   ],
   "source": [
    "train_data.shape"
   ]
  },
  {
   "cell_type": "code",
   "execution_count": 14,
   "metadata": {},
   "outputs": [
    {
     "data": {
      "text/plain": [
       "array([[203, 202, 196, ...,   1,   0,   0],\n",
       "       [203, 202, 204, ...,   0,   0,   0],\n",
       "       [213, 215, 219, ...,   0,   1,   0],\n",
       "       ...,\n",
       "       [134, 138, 139, ..., 124, 109, 118],\n",
       "       [135, 122, 127, ..., 111, 112, 111],\n",
       "       [140, 159, 157, ..., 118, 106,  46]], dtype=uint8)"
      ]
     },
     "execution_count": 14,
     "metadata": {},
     "output_type": "execute_result"
    }
   ],
   "source": [
    "train_data[0]"
   ]
  },
  {
   "cell_type": "markdown",
   "metadata": {},
   "source": [
    "# Normalization"
   ]
  },
  {
   "cell_type": "code",
   "execution_count": 15,
   "metadata": {},
   "outputs": [],
   "source": [
    "x_data = (train_data-np.min(train_data))/(np.max(train_data)-np.min(train_data))\n",
    "# x_data = train_data/255"
   ]
  },
  {
   "cell_type": "code",
   "execution_count": 16,
   "metadata": {},
   "outputs": [
    {
     "data": {
      "text/plain": [
       "(128, 128)"
      ]
     },
     "execution_count": 16,
     "metadata": {},
     "output_type": "execute_result"
    }
   ],
   "source": [
    "x_data[0].shape"
   ]
  },
  {
   "cell_type": "code",
   "execution_count": 17,
   "metadata": {},
   "outputs": [],
   "source": [
    "# x_data[0]"
   ]
  },
  {
   "cell_type": "code",
   "execution_count": 18,
   "metadata": {},
   "outputs": [],
   "source": [
    "z1 = np.zeros(96)\n",
    "o1 = np.ones(96)\n",
    "y = np.concatenate((o1, z1), axis=0)"
   ]
  },
  {
   "cell_type": "code",
   "execution_count": 19,
   "metadata": {},
   "outputs": [],
   "source": [
    "# y"
   ]
  },
  {
   "cell_type": "code",
   "execution_count": 20,
   "metadata": {},
   "outputs": [
    {
     "name": "stdout",
     "output_type": "stream",
     "text": [
      "X shape:  (192, 128, 128)\n",
      "Y shape:  (192,)\n"
     ]
    }
   ],
   "source": [
    "print(\"X shape: \" , x_data.shape)\n",
    "print(\"Y shape: \" , y.shape)"
   ]
  },
  {
   "cell_type": "markdown",
   "metadata": {},
   "source": [
    "# Train Test split for checking the performance of model"
   ]
  },
  {
   "cell_type": "code",
   "execution_count": 21,
   "metadata": {},
   "outputs": [],
   "source": [
    "from sklearn.model_selection import train_test_split\n",
    "x_train, x_test, y_train, y_test = train_test_split(x_data, y, test_size=0.15, random_state=23)\n",
    "\n",
    "number_of_train = x_train.shape[0]\n",
    "number_of_test = x_test.shape[0]"
   ]
  },
  {
   "cell_type": "code",
   "execution_count": 22,
   "metadata": {},
   "outputs": [],
   "source": [
    "# print(\"X train: \" , x_train.shape)\n",
    "# print(\"Y train: \" , y_train.shape)"
   ]
  },
  {
   "cell_type": "code",
   "execution_count": 23,
   "metadata": {},
   "outputs": [],
   "source": [
    "# df = pd.DataFrame(y_train)\n",
    "# df[0].value_counts()"
   ]
  },
  {
   "cell_type": "code",
   "execution_count": 24,
   "metadata": {},
   "outputs": [
    {
     "data": {
      "text/plain": [
       "(163, 128, 128)"
      ]
     },
     "execution_count": 24,
     "metadata": {},
     "output_type": "execute_result"
    }
   ],
   "source": [
    "x_train.shape"
   ]
  },
  {
   "cell_type": "code",
   "execution_count": 25,
   "metadata": {},
   "outputs": [
    {
     "data": {
      "text/plain": [
       "(128, 128)"
      ]
     },
     "execution_count": 25,
     "metadata": {},
     "output_type": "execute_result"
    }
   ],
   "source": [
    "x_train[0].shape"
   ]
  },
  {
   "cell_type": "markdown",
   "metadata": {},
   "source": [
    "# Flattening the image"
   ]
  },
  {
   "cell_type": "code",
   "execution_count": 26,
   "metadata": {},
   "outputs": [
    {
     "name": "stdout",
     "output_type": "stream",
     "text": [
      "X train flatten (163, 16384)\n",
      "X test flatten (29, 16384)\n"
     ]
    }
   ],
   "source": [
    "x_train = x_train.reshape(number_of_train,x_train.shape[1]*x_train.shape[2])\n",
    "x_test = x_test.reshape(number_of_test,x_test.shape[1]*x_test.shape[2])\n",
    "print(\"X train flatten\",x_train.shape)\n",
    "print(\"X test flatten\",x_test.shape)"
   ]
  },
  {
   "cell_type": "code",
   "execution_count": 27,
   "metadata": {},
   "outputs": [],
   "source": [
    "# 128*128*3"
   ]
  },
  {
   "cell_type": "code",
   "execution_count": 28,
   "metadata": {},
   "outputs": [],
   "source": [
    "df_x = pd.DataFrame(x_train)\n",
    "# df_x"
   ]
  },
  {
   "cell_type": "markdown",
   "metadata": {},
   "source": [
    "# Model Building"
   ]
  },
  {
   "cell_type": "code",
   "execution_count": 42,
   "metadata": {},
   "outputs": [
    {
     "name": "stdout",
     "output_type": "stream",
     "text": [
      "0.6551724137931034\n"
     ]
    }
   ],
   "source": [
    "from sklearn.linear_model import LogisticRegression\n",
    "from sklearn.metrics import accuracy_score\n",
    "model = LogisticRegression(random_state=23)\n",
    "model.fit(x_train, y_train)\n",
    "\n",
    "train_pred = model.predict(x_train)\n",
    "print(accuracy_score(train_pred, y_train))\n",
    "\n",
    "test_pred = model.predict(x_test)\n",
    "print(accuracy_score(test_pred, y_test))"
   ]
  },
  {
   "cell_type": "markdown",
   "metadata": {},
   "source": [
    "# Testing with new image"
   ]
  },
  {
   "cell_type": "code",
   "execution_count": 31,
   "metadata": {},
   "outputs": [],
   "source": [
    "new_img = cv2.imread('../images/images/test/2.png', cv2.IMREAD_GRAYSCALE)\n",
    "# plt.imshow(new_img, cmap='gray')"
   ]
  },
  {
   "cell_type": "code",
   "execution_count": 32,
   "metadata": {},
   "outputs": [
    {
     "data": {
      "text/plain": [
       "(128, 128)"
      ]
     },
     "execution_count": 32,
     "metadata": {},
     "output_type": "execute_result"
    }
   ],
   "source": [
    "test_img = cv2.resize(new_img, (image_size, image_size))\n",
    "test_img.shape"
   ]
  },
  {
   "cell_type": "code",
   "execution_count": 33,
   "metadata": {},
   "outputs": [
    {
     "data": {
      "text/plain": [
       "<matplotlib.image.AxesImage at 0x22c36544280>"
      ]
     },
     "execution_count": 33,
     "metadata": {},
     "output_type": "execute_result"
    },
    {
     "data": {
      "image/png": "[encoded data removed]",
      "text/plain": [
       "<Figure size 432x288 with 1 Axes>"
      ]
     },
     "metadata": {
      "needs_background": "light"
     },
     "output_type": "display_data"
    }
   ],
   "source": [
    "test_img = (test_img-np.min(train_data))/(np.max(train_data)-np.min(train_data))\n",
    "# test_img = test_img/255\n",
    "plt.imshow(test_img, cmap='gray')"
   ]
  },
  {
   "cell_type": "code",
   "execution_count": 34,
   "metadata": {},
   "outputs": [],
   "source": [
    "test = test_img.reshape(1,128*128)"
   ]
  },
  {
   "cell_type": "code",
   "execution_count": 35,
   "metadata": {},
   "outputs": [
    {
     "data": {
      "text/plain": [
       "array([1.])"
      ]
     },
     "execution_count": 35,
     "metadata": {},
     "output_type": "execute_result"
    }
   ],
   "source": [
    "model.predict(test)"
   ]
  },
  {
   "cell_type": "markdown",
   "metadata": {},
   "source": [
    "# Performance of model with unseen images"
   ]
  },
  {
   "cell_type": "code",
   "execution_count": 41,
   "metadata": {},
   "outputs": [
    {
     "name": "stdout",
     "output_type": "stream",
     "text": [
      "Messy :(\n",
      "Messy :(\n",
      "Clean :)\n",
      "Messy :(\n",
      "Clean :)\n",
      "Messy :(\n",
      "Clean :)\n",
      "Messy :(\n",
      "Clean :)\n",
      "Messy :(\n"
     ]
    }
   ],
   "source": [
    "def preprocess(img_index):\n",
    "    new_img = cv2.imread('../images/images/val/messy/'+str(img_index)+'.png', cv2.IMREAD_GRAYSCALE)\n",
    "    test_img = cv2.resize(new_img, (image_size, image_size))\n",
    "    test_img = (test_img-np.min(train_data))/(np.max(train_data)-np.min(train_data))\n",
    "    test = test_img.reshape(1,128*128)\n",
    "#     plt.imshow(new_img, 'gray')\n",
    "    return test\n",
    "\n",
    "for i in range(10):\n",
    "    img = preprocess(i)\n",
    "    pred = model.predict(img)\n",
    "    if pred == 0:\n",
    "        print('Clean :)')\n",
    "    else:\n",
    "        print('Messy :(')"
   ]
  },
  {
   "cell_type": "markdown",
   "metadata": {},
   "source": [
    "# Hyperparameter and parameter tuning using GridSearchCV"
   ]
  },
  {
   "cell_type": "code",
   "execution_count": 44,
   "metadata": {},
   "outputs": [
    {
     "data": {
      "text/plain": [
       "GridSearchCV(cv=10, estimator=LogisticRegression(random_state=24),\n",
       "             param_grid={'C': array([1.e-03, 1.e-02, 1.e-01, 1.e+00, 1.e+01, 1.e+02, 1.e+03]),\n",
       "                         'penalty': ['l1', 'l2']})"
      ]
     },
     "execution_count": 44,
     "metadata": {},
     "output_type": "execute_result"
    }
   ],
   "source": [
    "from sklearn.linear_model import LogisticRegression\n",
    "from sklearn.model_selection import GridSearchCV\n",
    "\n",
    "grid={\"C\":np.logspace(-3,3,7),\"penalty\":[\"l1\",\"l2\"]}\n",
    "\n",
    "logistic_regression=LogisticRegression(random_state=24)\n",
    "log_reg_cv=GridSearchCV(logistic_regression,grid,cv=10)\n",
    "log_reg_cv.fit(x_train,y_train)"
   ]
  },
  {
   "cell_type": "code",
   "execution_count": 45,
   "metadata": {},
   "outputs": [
    {
     "name": "stdout",
     "output_type": "stream",
     "text": [
      "best hyperparameters:  {'C': 0.001, 'penalty': 'l2'}\n",
      "accuracy:  0.6985294117647058\n"
     ]
    }
   ],
   "source": [
    "print(\"best hyperparameters: \", log_reg_cv.best_params_)\n",
    "print(\"accuracy: \", log_reg_cv.best_score_)"
   ]
  },
  {
   "cell_type": "code",
   "execution_count": 47,
   "metadata": {},
   "outputs": [
    {
     "data": {
      "text/plain": [
       "LogisticRegression(C=0.001)"
      ]
     },
     "execution_count": 47,
     "metadata": {},
     "output_type": "execute_result"
    }
   ],
   "source": [
    "log_reg= LogisticRegression(C=0.001,penalty=\"l2\")\n",
    "log_reg.fit(x_train,y_train)"
   ]
  },
  {
   "cell_type": "code",
   "execution_count": 49,
   "metadata": {},
   "outputs": [
    {
     "name": "stdout",
     "output_type": "stream",
     "text": [
      "0.8466257668711656\n",
      "0.7586206896551724\n"
     ]
    }
   ],
   "source": [
    "train_pred = log_reg.predict(x_train)\n",
    "print(accuracy_score(train_pred, y_train))\n",
    "\n",
    "test_pred = log_reg.predict(x_test)\n",
    "print(accuracy_score(test_pred, y_test))"
   ]
  },
  {
   "cell_type": "markdown",
   "metadata": {},
   "source": [
    "# Logistic Regression From Scratch"
   ]
  },
  {
   "cell_type": "code",
   "execution_count": 37,
   "metadata": {},
   "outputs": [],
   "source": [
    "# x_train = x_train_flatten.T\n",
    "# x_test = x_test_flatten.T\n",
    "# y_test = y_test.T\n",
    "# y_train = y_train.T\n",
    "# print(\"x train: \",x_train.shape)\n",
    "# print(\"x test: \",x_test.shape)\n",
    "# print(\"y train: \",y_train.shape)\n",
    "# print(\"y test: \",y_test.shape)"
   ]
  },
  {
   "cell_type": "code",
   "execution_count": 38,
   "metadata": {},
   "outputs": [],
   "source": [
    "# def initialize_weights_and_bias(dimension):\n",
    "#     w = np.full((dimension,1),0.01)\n",
    "#     b = 0.0\n",
    "#     return w, b\n",
    "\n",
    "# def sigmoid(z):\n",
    "#     y_head = 1/(1+np.exp(-z))\n",
    "#     return y_head\n",
    "\n",
    "# def forward_backward_propagation(w,b,x_train,y_train):\n",
    "#     # forward propagation\n",
    "#     z = np.dot(w.T,x_train) + b\n",
    "#     y_head = sigmoid(z)\n",
    "#     loss = -y_train*np.log(y_head)-(1-y_train)*np.log(1-y_head)\n",
    "#     cost = (np.sum(loss))/x_train.shape[1]\n",
    "#     # backward propagation\n",
    "#     derivative_weight = (np.dot(x_train,((y_head-y_train).T)))/x_train.shape[1]\n",
    "#     derivative_bias = np.sum(y_head-y_train)/x_train.shape[1]\n",
    "#     gradients = {\"derivative_weight\": derivative_weight,\"derivative_bias\": derivative_bias}\n",
    "#     return cost,gradients\n",
    "\n",
    "# def update(w, b, x_train, y_train, learning_rate,number_of_iterarion):\n",
    "#     cost_list = []\n",
    "#     cost_list2 = []\n",
    "#     index = []\n",
    "    \n",
    "#     for i in range(number_of_iterarion):\n",
    "        \n",
    "#         cost,gradients = forward_backward_propagation(w,b,x_train,y_train)\n",
    "#         cost_list.append(cost)\n",
    "        \n",
    "#         w = w - learning_rate * gradients[\"derivative_weight\"]\n",
    "#         b = b - learning_rate * gradients[\"derivative_bias\"]\n",
    "#         if i % 100 == 0:\n",
    "#             cost_list2.append(cost)\n",
    "#             index.append(i)\n",
    "#             print (\"Cost after iteration %i: %f\" %(i, cost))\n",
    "    \n",
    "#     parameters = {\"weight\": w,\"bias\": b}\n",
    "#     plt.plot(index,cost_list2)\n",
    "#     plt.xticks(index,rotation='vertical')\n",
    "#     plt.xlabel(\"Number of Iteration\")\n",
    "#     plt.ylabel(\"Cost\")\n",
    "#     plt.show()\n",
    "#     return parameters, gradients, cost_list\n",
    "\n",
    "# def predict(w,b,x_test):\n",
    "    \n",
    "#     z = sigmoid(np.dot(w.T,x_test)+b)\n",
    "#     Y_prediction = np.zeros((1,x_test.shape[1]))\n",
    "\n",
    "#     for i in range(z.shape[1]):\n",
    "#         if z[0,i]<= 0.5:\n",
    "#             Y_prediction[0,i] = 0\n",
    "#         else:\n",
    "#             Y_prediction[0,i] = 1\n",
    "\n",
    "#     return Y_prediction\n",
    "\n",
    "# def logistic_regression(x_train, y_train, x_test, y_test, learning_rate ,  num_iterations):\n",
    "\n",
    "#     dimension =  x_train.shape[0]\n",
    "#     w,b = initialize_weights_and_bias(dimension)\n",
    "\n",
    "#     parameters, gradients, cost_list = update(w, b, x_train, y_train, learning_rate,num_iterations)\n",
    "    \n",
    "#     y_prediction_test = predict(parameters[\"weight\"],parameters[\"bias\"],x_test)\n",
    "#     y_prediction_train = predict(parameters[\"weight\"],parameters[\"bias\"],x_train)\n",
    "    \n",
    "#     print(\"Test Accuracy: {} %\".format(round(100 - np.mean(np.abs(y_prediction_test - y_test)) * 100,2)))\n",
    "#     print(\"Train Accuracy: {} %\".format(round(100 - np.mean(np.abs(y_prediction_train - y_train)) * 100,2)))"
   ]
  },
  {
   "cell_type": "code",
   "execution_count": 39,
   "metadata": {},
   "outputs": [],
   "source": [
    "# logistic_regression(x_train, y_train, x_test, y_test,learning_rate = 0.01, num_iterations = 1500)"
   ]
  }
 ],
 "metadata": {
  "kernelspec": {
   "display_name": "Python 3",
   "language": "python",
   "name": "python3"
  },
  "language_info": {
   "codemirror_mode": {
    "name": "ipython",
    "version": 3
   },
   "file_extension": ".py",
   "mimetype": "text/x-python",
   "name": "python",
   "nbconvert_exporter": "python",
   "pygments_lexer": "ipython3",
   "version": "3.8.3"
  }
 },
 "nbformat": 4,
 "nbformat_minor": 4
}
